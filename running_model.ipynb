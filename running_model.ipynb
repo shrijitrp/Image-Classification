{
 "cells": [
  {
   "cell_type": "code",
   "execution_count": 1,
   "metadata": {},
   "outputs": [],
   "source": [
    "import pickle\n",
    "from tensorflow.keras.models import Sequential\n",
    "from tensorflow.keras.layers import Activation,Dense,Conv2D,MaxPooling2D,Flatten\n",
    "import time\n"
   ]
  },
  {
   "cell_type": "code",
   "execution_count": 42,
   "metadata": {},
   "outputs": [],
   "source": [
    "pickle_in = open(\"x_pickle\",\"rb\")\n",
    "x = pickle.load(pickle_in)\n",
    "pickle_in = open(\"y_pickle\",\"rb\")\n",
    "y = pickle.load(pickle_in)"
   ]
  },
  {
   "cell_type": "code",
   "execution_count": 56,
   "metadata": {},
   "outputs": [],
   "source": [
    "model = Sequential()"
   ]
  },
  {
   "cell_type": "code",
   "execution_count": 57,
   "metadata": {},
   "outputs": [],
   "source": [
    "\n",
    "model.add(Conv2D(64,(3,3),input_shape = x.shape[1:]))\n",
    "model.add(Activation(\"relu\"))\n",
    "model.add(MaxPooling2D(2,2))\n",
    "\n",
    "model.add(Conv2D(64,(3,3)))\n",
    "model.add(Activation(\"relu\"))\n",
    "model.add(MaxPooling2D(2,2))\n",
    "\n",
    "model.add(Flatten())\n",
    "model.add(Dense(64))\n",
    "model.add(Activation(\"relu\"))\n",
    "\n",
    "model.add(Dense(1))\n",
    "model.add(Activation(\"sigmoid\"))\n"
   ]
  },
  {
   "cell_type": "code",
   "execution_count": 45,
   "metadata": {},
   "outputs": [],
   "source": [
    "model.compile(loss = 'binary_crossentropy',\n",
    "             optimizer = \"adam\",\n",
    "             metrics = [\"accuracy\"])\n"
   ]
  },
  {
   "cell_type": "code",
   "execution_count": 47,
   "metadata": {},
   "outputs": [
    {
     "name": "stdout",
     "output_type": "stream",
     "text": [
      "Epoch 1/5\n",
      "624/624 [==============================] - 47s 74ms/step - loss: 2.5760 - accuracy: 0.5314 - val_loss: 0.6709 - val_accuracy: 0.5840\n",
      "Epoch 2/5\n",
      "624/624 [==============================] - 48s 77ms/step - loss: 0.6669 - accuracy: 0.5894 - val_loss: 0.6574 - val_accuracy: 0.6022\n",
      "Epoch 3/5\n",
      "624/624 [==============================] - 48s 77ms/step - loss: 0.6282 - accuracy: 0.6397 - val_loss: 0.6337 - val_accuracy: 0.6449\n",
      "Epoch 4/5\n",
      "624/624 [==============================] - 47s 75ms/step - loss: 0.5887 - accuracy: 0.6718 - val_loss: 0.6094 - val_accuracy: 0.6848\n",
      "Epoch 5/5\n",
      "624/624 [==============================] - 47s 75ms/step - loss: 0.5245 - accuracy: 0.7387 - val_loss: 0.6135 - val_accuracy: 0.6957\n"
     ]
    },
    {
     "data": {
      "text/plain": [
       "<tensorflow.python.keras.callbacks.History at 0x259482aca30>"
      ]
     },
     "execution_count": 47,
     "metadata": {},
     "output_type": "execute_result"
    }
   ],
   "source": [
    "model.fit(x,y,batch_size = 32,epochs = 5,validation_split = 0.2)"
   ]
  },
  {
   "cell_type": "code",
   "execution_count": 48,
   "metadata": {},
   "outputs": [
    {
     "name": "stdout",
     "output_type": "stream",
     "text": [
      "INFO:tensorflow:Assets written to: 64x2-CNN.model\\assets\n"
     ]
    }
   ],
   "source": [
    "model.save(\"64x2-CNN.model\")"
   ]
  }
 ],
 "metadata": {
  "kernelspec": {
   "display_name": "Python 3",
   "language": "python",
   "name": "python3"
  },
  "language_info": {
   "codemirror_mode": {
    "name": "ipython",
    "version": 3
   },
   "file_extension": ".py",
   "mimetype": "text/x-python",
   "name": "python",
   "nbconvert_exporter": "python",
   "pygments_lexer": "ipython3",
   "version": "3.8.5"
  }
 },
 "nbformat": 4,
 "nbformat_minor": 4
}
